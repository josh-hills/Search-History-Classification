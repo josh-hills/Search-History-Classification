{
 "cells": [
  {
   "cell_type": "markdown",
   "metadata": {},
   "source": [
    "##### Import libraries"
   ]
  },
  {
   "cell_type": "code",
   "execution_count": 1,
   "metadata": {},
   "outputs": [],
   "source": [
    "import pandas as pd\n",
    "import numpy as np\n",
    "import matplotlib.pyplot as plt\n",
    "import seaborn as sns\n",
    "from bs4 import BeautifulSoup\n",
    "import nltk\n",
    "import pickle\n",
    "import gensim.downloader as api\n",
    "import numpy as np\n",
    "\n",
    "from sklearn.preprocessing import StandardScaler, MinMaxScaler\n",
    "from sklearn.decomposition import PCA\n",
    "from sklearn.manifold import TSNE\n",
    "from sklearn.preprocessing import LabelEncoder\n",
    "from sklearn.model_selection import train_test_split\n",
    "from sklearn.feature_extraction.text import CountVectorizer\n",
    "\n",
    "#nltk.download('all')\n",
    "from nltk.tokenize.treebank import TreebankWordDetokenizer\n",
    "import matplotlib.pyplot as plt\n",
    "import os\n",
    "pd.set_option('display.max_columns', None)"
   ]
  },
  {
   "cell_type": "code",
   "execution_count": 55,
   "metadata": {},
   "outputs": [],
   "source": [
    "usersPath = '../Data'\n",
    "usersDict = {}\n",
    "for user in os.listdir(usersPath):\n",
    "    df = pd.read_pickle(usersPath+'/'+user+'/search.pkl')\n",
    "    df['user'] = user\n",
    "    usersDict[user] = df"
   ]
  },
  {
   "cell_type": "code",
   "execution_count": 56,
   "metadata": {},
   "outputs": [
    {
     "data": {
      "text/html": [
       "<div>\n",
       "<style scoped>\n",
       "    .dataframe tbody tr th:only-of-type {\n",
       "        vertical-align: middle;\n",
       "    }\n",
       "\n",
       "    .dataframe tbody tr th {\n",
       "        vertical-align: top;\n",
       "    }\n",
       "\n",
       "    .dataframe thead th {\n",
       "        text-align: right;\n",
       "    }\n",
       "</style>\n",
       "<table border=\"1\" class=\"dataframe\">\n",
       "  <thead>\n",
       "    <tr style=\"text-align: right;\">\n",
       "      <th></th>\n",
       "      <th>Search</th>\n",
       "      <th>Day</th>\n",
       "      <th>Month</th>\n",
       "      <th>Year</th>\n",
       "      <th>Time</th>\n",
       "      <th>user</th>\n",
       "    </tr>\n",
       "  </thead>\n",
       "  <tbody>\n",
       "    <tr>\n",
       "      <th>0</th>\n",
       "      <td>[find, arg, reddit]</td>\n",
       "      <td>9</td>\n",
       "      <td>10</td>\n",
       "      <td>2021</td>\n",
       "      <td>10:31:16</td>\n",
       "      <td>user0</td>\n",
       "    </tr>\n",
       "    <tr>\n",
       "      <th>1</th>\n",
       "      <td>[windows]</td>\n",
       "      <td>1</td>\n",
       "      <td>10</td>\n",
       "      <td>2021</td>\n",
       "      <td>16:21:12</td>\n",
       "      <td>user0</td>\n",
       "    </tr>\n",
       "    <tr>\n",
       "      <th>2</th>\n",
       "      <td>[dropbox]</td>\n",
       "      <td>2</td>\n",
       "      <td>10</td>\n",
       "      <td>2021</td>\n",
       "      <td>16:19:23</td>\n",
       "      <td>user0</td>\n",
       "    </tr>\n",
       "    <tr>\n",
       "      <th>3</th>\n",
       "      <td>[increase, max, brightness, dell]</td>\n",
       "      <td>2</td>\n",
       "      <td>10</td>\n",
       "      <td>2021</td>\n",
       "      <td>16:16:51</td>\n",
       "      <td>user0</td>\n",
       "    </tr>\n",
       "    <tr>\n",
       "      <th>4</th>\n",
       "      <td>[youtube]</td>\n",
       "      <td>2</td>\n",
       "      <td>10</td>\n",
       "      <td>2021</td>\n",
       "      <td>16:06:21</td>\n",
       "      <td>user0</td>\n",
       "    </tr>\n",
       "  </tbody>\n",
       "</table>\n",
       "</div>"
      ],
      "text/plain": [
       "                              Search Day Month  Year      Time   user\n",
       "0                [find, arg, reddit]   9    10  2021  10:31:16  user0\n",
       "1                          [windows]   1    10  2021  16:21:12  user0\n",
       "2                          [dropbox]   2    10  2021  16:19:23  user0\n",
       "3  [increase, max, brightness, dell]   2    10  2021  16:16:51  user0\n",
       "4                          [youtube]   2    10  2021  16:06:21  user0"
      ]
     },
     "execution_count": 56,
     "metadata": {},
     "output_type": "execute_result"
    }
   ],
   "source": [
    "combinedDF = pd.concat(usersDict.values(),ignore_index=True)\n",
    "combinedDF.head()"
   ]
  },
  {
   "cell_type": "code",
   "execution_count": 57,
   "metadata": {},
   "outputs": [
    {
     "name": "stderr",
     "output_type": "stream",
     "text": [
      "C:\\Users\\Josh\\AppData\\Local\\Temp/ipykernel_8468/1839368803.py:3: UserWarning: FixedFormatter should only be used together with FixedLocator\n",
      "  plot.set_xticklabels(combinedDF['user'].unique(), rotation=45)\n"
     ]
    },
    {
     "data": {
      "image/png": "[encoded data removed]",
      "text/plain": [
       "<Figure size 432x288 with 1 Axes>"
      ]
     },
     "metadata": {
      "needs_background": "light"
     },
     "output_type": "display_data"
    }
   ],
   "source": [
    "plot = sns.histplot(data=combinedDF, x='user', shrink=.8)\n",
    "plot.set_title('Distribution of user searches')\n",
    "plot.set_xticklabels(combinedDF['user'].unique(), rotation=45)\n",
    "plt.show()"
   ]
  },
  {
   "cell_type": "code",
   "execution_count": 66,
   "metadata": {},
   "outputs": [],
   "source": [
    "# drop user6, user2, user8, user9\n",
    "combinedDF = combinedDF[~combinedDF['user'].isin(['user6','user2','user8','user9'])]"
   ]
  },
  {
   "cell_type": "code",
   "execution_count": 58,
   "metadata": {},
   "outputs": [],
   "source": [
    "combinedDF.drop(combinedDF[combinedDF['Day']>31].index,inplace=True)\n",
    "combinedDF.drop(combinedDF[combinedDF['Day']<0].index,inplace=True)\n",
    "combinedDF.drop(combinedDF[combinedDF['Month']>12].index,inplace=True)\n",
    "combinedDF.drop(combinedDF[combinedDF['Year']>2021].index,inplace=True)\n",
    "combinedDF.drop(combinedDF[combinedDF['Year']<2020].index,inplace=True)"
   ]
  },
  {
   "cell_type": "markdown",
   "metadata": {},
   "source": [
    "##### Downsampling\n",
    ">- As we can see there are way more searches for some users than others.\n",
    ">- This will lead to a bias in the model. \n",
    ">- We can use a downsampling technique to reduce the bias."
   ]
  },
  {
   "cell_type": "code",
   "execution_count": 61,
   "metadata": {},
   "outputs": [],
   "source": [
    "#Find which user has the least amount of searches and how much\n",
    "min_searches = min(combinedDF['user'].value_counts())\n",
    "\n",
    "# Downsample the data so all users have min_searches then reset the index\n",
    "combinedDF = combinedDF.groupby('user').apply(lambda x: x.sample(min_searches))\n",
    "combinedDF.reset_index(drop=True,inplace=True)"
   ]
  },
  {
   "cell_type": "code",
   "execution_count": 62,
   "metadata": {},
   "outputs": [],
   "source": [
    "# convert 'Time' to datetime\n",
    "#def hms_to_sec(t):\n",
    "#    h, m, s = t.split(':')\n",
    "#    return int(h) * 3600 + int(m) * 60 + int(s)\n",
    "# \n",
    "#combinedDF['Time'] = combinedDF['Time'].apply(hms_to_sec)"
   ]
  },
  {
   "cell_type": "markdown",
   "metadata": {},
   "source": [
    "##### Run Models"
   ]
  },
  {
   "cell_type": "code",
   "execution_count": 63,
   "metadata": {},
   "outputs": [
    {
     "data": {
      "text/html": [
       "<div>\n",
       "<style scoped>\n",
       "    .dataframe tbody tr th:only-of-type {\n",
       "        vertical-align: middle;\n",
       "    }\n",
       "\n",
       "    .dataframe tbody tr th {\n",
       "        vertical-align: top;\n",
       "    }\n",
       "\n",
       "    .dataframe thead th {\n",
       "        text-align: right;\n",
       "    }\n",
       "</style>\n",
       "<table border=\"1\" class=\"dataframe\">\n",
       "  <thead>\n",
       "    <tr style=\"text-align: right;\">\n",
       "      <th></th>\n",
       "      <th>Search</th>\n",
       "      <th>Day</th>\n",
       "      <th>Month</th>\n",
       "      <th>Year</th>\n",
       "      <th>Time</th>\n",
       "      <th>user</th>\n",
       "    </tr>\n",
       "  </thead>\n",
       "  <tbody>\n",
       "    <tr>\n",
       "      <th>0</th>\n",
       "      <td>csis jobs</td>\n",
       "      <td>5</td>\n",
       "      <td>4</td>\n",
       "      <td>2021</td>\n",
       "      <td>08:42:32</td>\n",
       "      <td>0</td>\n",
       "    </tr>\n",
       "    <tr>\n",
       "      <th>1</th>\n",
       "      <td>cemu new account showing</td>\n",
       "      <td>21</td>\n",
       "      <td>7</td>\n",
       "      <td>2021</td>\n",
       "      <td>15:53:25</td>\n",
       "      <td>0</td>\n",
       "    </tr>\n",
       "    <tr>\n",
       "      <th>2</th>\n",
       "      <td>manjaro</td>\n",
       "      <td>3</td>\n",
       "      <td>5</td>\n",
       "      <td>2021</td>\n",
       "      <td>14:42:17</td>\n",
       "      <td>0</td>\n",
       "    </tr>\n",
       "    <tr>\n",
       "      <th>3</th>\n",
       "      <td>carleton central</td>\n",
       "      <td>21</td>\n",
       "      <td>7</td>\n",
       "      <td>2021</td>\n",
       "      <td>11:33:43</td>\n",
       "      <td>0</td>\n",
       "    </tr>\n",
       "    <tr>\n",
       "      <th>4</th>\n",
       "      <td>alien monitor test</td>\n",
       "      <td>3</td>\n",
       "      <td>7</td>\n",
       "      <td>2021</td>\n",
       "      <td>13:28:08</td>\n",
       "      <td>0</td>\n",
       "    </tr>\n",
       "  </tbody>\n",
       "</table>\n",
       "</div>"
      ],
      "text/plain": [
       "                     Search Day Month  Year      Time  user\n",
       "0                 csis jobs   5     4  2021  08:42:32     0\n",
       "1  cemu new account showing  21     7  2021  15:53:25     0\n",
       "2                   manjaro   3     5  2021  14:42:17     0\n",
       "3          carleton central  21     7  2021  11:33:43     0\n",
       "4        alien monitor test   3     7  2021  13:28:08     0"
      ]
     },
     "execution_count": 63,
     "metadata": {},
     "output_type": "execute_result"
    }
   ],
   "source": [
    "# encode the user column and then remove \n",
    "le = LabelEncoder()\n",
    "combinedDF['user'] = le.fit_transform(combinedDF['user'])\n",
    "combinedDF.head(5)"
   ]
  },
  {
   "cell_type": "code",
   "execution_count": 64,
   "metadata": {},
   "outputs": [],
   "source": [
    "# let features be search, day, month, year\n",
    "X = combinedDF[['Search','Day','Month','Year']]\n",
    "y = combinedDF['user']"
   ]
  },
  {
   "cell_type": "markdown",
   "metadata": {},
   "source": [
    "##### Create train and test splits, test size %15, train size %85"
   ]
  },
  {
   "cell_type": "code",
   "execution_count": 65,
   "metadata": {},
   "outputs": [],
   "source": [
    "# Create train and test data\n",
    "X_train, X_test, y_train, y_test = train_test_split(X, y, shuffle = True, test_size=0.15, random_state=42)"
   ]
  },
  {
   "cell_type": "markdown",
   "metadata": {},
   "source": [
    "##### Vectorize the words to be used in a bag of words model\n",
    ">- A bag of words model uses a vector of binary values to represent each word in a document.\n",
    ">- These words are then used to predict the idendity of a user."
   ]
  },
  {
   "cell_type": "code",
   "execution_count": 66,
   "metadata": {},
   "outputs": [
    {
     "data": {
      "text/plain": [
       "CountVectorizer()"
      ]
     },
     "execution_count": 66,
     "metadata": {},
     "output_type": "execute_result"
    }
   ],
   "source": [
    "vectorizer = CountVectorizer()\n",
    "vectorizer.fit(X_train['Search'])"
   ]
  },
  {
   "cell_type": "code",
   "execution_count": 67,
   "metadata": {},
   "outputs": [],
   "source": [
    "X_train = vectorizer.transform(X_train['Search'])\n",
    "X_test  = vectorizer.transform(X_test['Search'])"
   ]
  },
  {
   "cell_type": "markdown",
   "metadata": {},
   "source": [
    "##### Models\n",
    ">- Here the models are used to predict the identity of a user, we save the test accuracy and the train accuracy"
   ]
  },
  {
   "cell_type": "code",
   "execution_count": 73,
   "metadata": {},
   "outputs": [
    {
     "name": "stdout",
     "output_type": "stream",
     "text": [
      "Logistic Regression Accuracy: 0.720565942395149\n",
      "Train: 0.9345169060576323\n"
     ]
    }
   ],
   "source": [
    "from sklearn.linear_model import LogisticRegression\n",
    "classifier = LogisticRegression(max_iter=1000)\n",
    "classifier.fit(X_train, y_train)\n",
    "LRscore = classifier.score(X_test, y_test)\n",
    "LRtrain = classifier.score(X_train, y_train)\n",
    "print(\"Logistic Regression Accuracy:\", LRscore)\n",
    "print(\"Train:\", LRtrain)"
   ]
  },
  {
   "cell_type": "code",
   "execution_count": 74,
   "metadata": {},
   "outputs": [
    {
     "name": "stdout",
     "output_type": "stream",
     "text": [
      "Random Forest Accuracy: 0.6796361798888327\n"
     ]
    }
   ],
   "source": [
    "from sklearn.ensemble import RandomForestClassifier \n",
    "classifier = RandomForestClassifier()\n",
    "classifier.fit(X_train, y_train)\n",
    "RFscore = classifier.score(X_test, y_test)\n",
    "RFtrain = classifier.score(X_train, y_train)\n",
    "print(\"Random Forest Accuracy:\", RFscore)"
   ]
  },
  {
   "cell_type": "code",
   "execution_count": 75,
   "metadata": {},
   "outputs": [
    {
     "name": "stdout",
     "output_type": "stream",
     "text": [
      "Random Forest Accuracy: 0.5103587670540677\n"
     ]
    }
   ],
   "source": [
    "from sklearn.neighbors import KNeighborsClassifier\n",
    "classifier = KNeighborsClassifier()\n",
    "classifier.fit(X_train, y_train)\n",
    "KNNscore = classifier.score(X_test, y_test)\n",
    "KNNtrain = classifier.score(X_train, y_train)\n",
    "print(\"Random Forest Accuracy:\", KNNscore)"
   ]
  },
  {
   "cell_type": "code",
   "execution_count": 76,
   "metadata": {},
   "outputs": [
    {
     "name": "stdout",
     "output_type": "stream",
     "text": [
      "Support Vector Machine Accuracy: 0.7109651339060131\n"
     ]
    }
   ],
   "source": [
    "from sklearn.svm import SVC\n",
    "classifier = SVC()\n",
    "classifier.fit(X_train, y_train)\n",
    "SVCscore = classifier.score(X_test, y_test)\n",
    "SVCtrain = classifier.score(X_train, y_train)\n",
    "print(\"Support Vector Machine Accuracy:\", SVCscore)"
   ]
  },
  {
   "cell_type": "code",
   "execution_count": 77,
   "metadata": {},
   "outputs": [
    {
     "name": "stdout",
     "output_type": "stream",
     "text": [
      "Gradient Boosting Accuracy: 0.5250126326427489\n"
     ]
    }
   ],
   "source": [
    "# gradient boosting\n",
    "from sklearn.ensemble import GradientBoostingClassifier\n",
    "classifier = GradientBoostingClassifier()\n",
    "classifier.fit(X_train, y_train)\n",
    "GBscore = classifier.score(X_test, y_test)\n",
    "GBtrain = classifier.score(X_train, y_train)\n",
    "print(\"Gradient Boosting Accuracy:\", GBscore)"
   ]
  },
  {
   "cell_type": "markdown",
   "metadata": {},
   "source": [
    "##### Accuracies"
   ]
  },
  {
   "cell_type": "code",
   "execution_count": 80,
   "metadata": {},
   "outputs": [
    {
     "data": {
      "text/html": [
       "<div>\n",
       "<style scoped>\n",
       "    .dataframe tbody tr th:only-of-type {\n",
       "        vertical-align: middle;\n",
       "    }\n",
       "\n",
       "    .dataframe tbody tr th {\n",
       "        vertical-align: top;\n",
       "    }\n",
       "\n",
       "    .dataframe thead th {\n",
       "        text-align: right;\n",
       "    }\n",
       "</style>\n",
       "<table border=\"1\" class=\"dataframe\">\n",
       "  <thead>\n",
       "    <tr style=\"text-align: right;\">\n",
       "      <th></th>\n",
       "      <th>Model</th>\n",
       "      <th>Test Accuracy</th>\n",
       "      <th>Train Accuracy</th>\n",
       "    </tr>\n",
       "  </thead>\n",
       "  <tbody>\n",
       "    <tr>\n",
       "      <th>0</th>\n",
       "      <td>Gradient Boosting</td>\n",
       "      <td>0.525013</td>\n",
       "      <td>0.541440</td>\n",
       "    </tr>\n",
       "    <tr>\n",
       "      <th>1</th>\n",
       "      <td>Logistic Regression</td>\n",
       "      <td>0.720566</td>\n",
       "      <td>0.934517</td>\n",
       "    </tr>\n",
       "    <tr>\n",
       "      <th>2</th>\n",
       "      <td>SVC</td>\n",
       "      <td>0.710965</td>\n",
       "      <td>0.952360</td>\n",
       "    </tr>\n",
       "    <tr>\n",
       "      <th>3</th>\n",
       "      <td>Random Forest</td>\n",
       "      <td>0.679636</td>\n",
       "      <td>0.974128</td>\n",
       "    </tr>\n",
       "    <tr>\n",
       "      <th>4</th>\n",
       "      <td>KNN</td>\n",
       "      <td>0.510359</td>\n",
       "      <td>0.702560</td>\n",
       "    </tr>\n",
       "  </tbody>\n",
       "</table>\n",
       "</div>"
      ],
      "text/plain": [
       "                 Model  Test Accuracy  Train Accuracy\n",
       "0    Gradient Boosting       0.525013        0.541440\n",
       "1  Logistic Regression       0.720566        0.934517\n",
       "2                  SVC       0.710965        0.952360\n",
       "3        Random Forest       0.679636        0.974128\n",
       "4                  KNN       0.510359        0.702560"
      ]
     },
     "execution_count": 80,
     "metadata": {},
     "output_type": "execute_result"
    }
   ],
   "source": [
    "# Make a table showing the model name, accuracy, and training accuracy\n",
    "model_accuracy = pd.DataFrame({'Model': ['Gradient Boosting', 'Logistic Regression', 'SVC', 'Random Forest', 'KNN'],\n",
    "                                'Test Accuracy': [GBscore, LRscore, SVCscore, RFscore, KNNscore],\n",
    "                                'Train Accuracy': [GBtrain, LRtrain, SVCtrain, RFtrain, KNNtrain]})\n",
    "model_accuracy"
   ]
  }
 ],
 "metadata": {
  "interpreter": {
   "hash": "13eb0af71620a846e484681143862ad0a4deab6cadfc353264e5c14897c11035"
  },
  "kernelspec": {
   "display_name": "Python 3.9.9 64-bit",
   "language": "python",
   "name": "python3"
  },
  "language_info": {
   "codemirror_mode": {
    "name": "ipython",
    "version": 3
   },
   "file_extension": ".py",
   "mimetype": "text/x-python",
   "name": "python",
   "nbconvert_exporter": "python",
   "pygments_lexer": "ipython3",
   "version": "3.9.9"
  },
  "orig_nbformat": 4
 },
 "nbformat": 4,
 "nbformat_minor": 2
}
